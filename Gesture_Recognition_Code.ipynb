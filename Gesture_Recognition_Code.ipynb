{
 "cells": [
  {
   "cell_type": "markdown",
   "metadata": {},
   "source": [
    "# Gesture Recognition\n",
    "In this group project, we are going to build a 3D Conv model that will be able to predict the 5 gestures correctly. Importing the following libraries to get started."
   ]
  },
  {
   "cell_type": "code",
   "execution_count": 1,
   "metadata": {},
   "outputs": [],
   "source": [
    "import numpy as np\n",
    "import os\n",
    "# from scipy.misc import imresize\n",
    "from skimage.transform import resize\n",
    "from imageio import imread\n",
    "import datetime\n",
    "import os"
   ]
  },
  {
   "cell_type": "markdown",
   "metadata": {},
   "source": [
    "We set the random seed so that the results don't vary drastically."
   ]
  },
  {
   "cell_type": "code",
   "execution_count": 2,
   "metadata": {},
   "outputs": [],
   "source": [
    "np.random.seed(30)\n",
    "import random as rn\n",
    "rn.seed(30)\n",
    "from keras import backend as K\n",
    "import tensorflow as tf\n",
    "tf.random.set_seed(30)"
   ]
  },
  {
   "cell_type": "markdown",
   "metadata": {},
   "source": [
    "In this block, you read the folder names for training and validation. You also set the `batch_size` here. Note that you set the batch size in such a way that you are able to use the GPU in full capacity. You keep increasing the batch size until the machine throws an error."
   ]
  },
  {
   "cell_type": "code",
   "execution_count": 3,
   "metadata": {},
   "outputs": [],
   "source": [
    "train_doc = np.random.permutation(open('C:/Users/HP/Desktop/Gesture Recognition/Project_data/train.csv').readlines())\n",
    "val_doc = np.random.permutation(open('C:/Users/HP/Desktop/Gesture Recognition/Project_data/val.csv').readlines())\n",
    "batch_size = 45"
   ]
  },
  {
   "cell_type": "markdown",
   "metadata": {},
   "source": [
    "## Generator\n",
    "This is one of the most important part of the code. The overall structure of the generator has been given. In the generator, you are going to preprocess the images as you have images of 2 different dimensions as well as create a batch of video frames. You have to experiment with `img_idx`, `y`,`z` and normalization such that you get high accuracy."
   ]
  },
  {
   "cell_type": "code",
   "execution_count": 4,
   "metadata": {},
   "outputs": [],
   "source": [
    "def generator(source_path, folder_list, batch_size):\n",
    "    print( 'Source path = ', source_path, '; batch size =', batch_size)\n",
    "    #create a list of image numbers you want to use for a particular video\n",
    "    img_idx = [11,12,13,14,15,16,17,18,19,20,21,22,23,24,25,26,27]\n",
    "    while True:\n",
    "        t = np.random.permutation(folder_list)\n",
    "        num_batches = len(source_path)//batch_size # calculate the number of batches\n",
    "        for batch in range(num_batches): # we iterate over the number of batches\n",
    "            batch_data = np.zeros((batch_size,18,100,100,3)) # x is the number of images you use for each video, (y,z) is the final size of the input images and 3 is the number of channels RGB\n",
    "            batch_labels = np.zeros((batch_size,5)) # batch_labels is the one hot representation of the output\n",
    "            for folder in range(batch_size): # iterate over the batch_size\n",
    "                imgs = os.listdir(source_path+'/'+ t[folder + (batch*batch_size)].split(';')[0]) # read all the images in the folder\n",
    "                for idx,item in enumerate(img_idx): #  Iterate iver the frames/images of a folder to read them in\n",
    "                    image = imread(source_path+'/'+ t[folder + (batch*batch_size)].strip().split(';')[0]+'/'+imgs[item]).astype(np.float32)\n",
    "                    \n",
    "                    #crop the images and resize them. Note that the images are of 2 different shape \n",
    "                    #and the conv3D will throw error if the inputs in a batch have different shapes\n",
    "                    \n",
    "                    image = image.resize(100, 100)\n",
    "                    \n",
    "                    batch_data[folder,idx,:,:,0] = 255 #normalise and feed in the image\n",
    "                    batch_data[folder,idx,:,:,1] = 255 #normalise and feed in the image\n",
    "                    batch_data[folder,idx,:,:,2] = 255 #normalise and feed in the image\n",
    "                    \n",
    "                batch_labels[folder, int(t[folder + (batch*batch_size)].strip().split(';')[2])] = 1\n",
    "            yield batch_data, batch_labels #you yield the batch_data and the batch_labels, remember what does yield do\n",
    "\n",
    "        \n",
    "        # write the code for the remaining data points which are left after full batches\n",
    "        if((len(source_path)%batch_size)//2==0):\n",
    "            batch_size = 2\n",
    "        else:\n",
    "            batch_size = 1\n",
    "        num_batches = len(source_path)%batch_size # calculate the number of batches\n",
    "        for batch in range(num_batches): # we iterate over the number of batches\n",
    "            batch_data = np.zeros((batch_size,18,100,100,3)) # x is the number of images you use for each video, (y,z) is the final size of the input images and 3 is the number of channels RGB\n",
    "            batch_labels = np.zeros((batch_size,5)) # batch_labels is the one hot representation of the output\n",
    "            for folder in range(batch_size): # iterate over the batch_size\n",
    "                imgs = os.listdir(source_path+'/'+ t[folder + (batch*batch_size)].split(';')[0]) # read all the images in the folder\n",
    "                for idx,item in enumerate(img_idx): #  Iterate iver the frames/images of a folder to read them in\n",
    "                    image = imageio.imread(source_path+'/'+ t[folder + (batch*batch_size)].strip().split(';')[0]+'/'+imgs[item]).astype(np.float32)\n",
    "                    \n",
    "                    \n",
    "                    \n",
    "                    # Cropped image of above dimension \n",
    "                    # (It will not change orginal image) \n",
    "                    \n",
    "                    #image = image.crop((0, 0, 120, 120))\n",
    "                    image = image.resize(100, 100)\n",
    "                    \n",
    "                    \n",
    "                    #crop the images and resize them. Note that the images are of 2 different shape \n",
    "                    #and the conv3D will throw error if the inputs in a batch have different shapes\n",
    "                    \n",
    "                    batch_data[folder,idx,:,:,0] /= 255\n",
    "                    batch_data[folder,idx,:,:,1] /= 255 #normalise and feed in the image\n",
    "                    batch_data[folder,idx,:,:,2] /= 255 #normalise and feed in the image\n",
    "                    \n",
    "                batch_labels[folder, int(t[folder + (batch*batch_size)].strip().split(';')[2])] = 1\n",
    "            yield batch_data, batch_labels #you yield the batch_data and the batch_labels, remember what does yield do\n",
    "\n"
   ]
  },
  {
   "cell_type": "markdown",
   "metadata": {},
   "source": [
    "Note here that a video is represented above in the generator as (number of images, height, width, number of channels). Take this into consideration while creating the model architecture."
   ]
  },
  {
   "cell_type": "code",
   "execution_count": 5,
   "metadata": {},
   "outputs": [
    {
     "name": "stdout",
     "output_type": "stream",
     "text": [
      "# training sequences = 663\n",
      "# validation sequences = 100\n",
      "# epochs = 20\n"
     ]
    }
   ],
   "source": [
    "curr_dt_time = datetime.datetime.now()\n",
    "train_path = 'C:/Users/HP/Desktop/Gesture Recognition/Project_data/train'\n",
    "val_path = 'C:/Users/HP/Desktop/Gesture Recognition/Project_data/val'\n",
    "num_train_sequences = len(train_doc)\n",
    "print('# training sequences =', num_train_sequences)\n",
    "num_val_sequences = len(val_doc)\n",
    "print('# validation sequences =', num_val_sequences)\n",
    "num_epochs = 20 # choose the number of epochs\n",
    "print ('# epochs =', num_epochs)"
   ]
  },
  {
   "cell_type": "markdown",
   "metadata": {},
   "source": [
    "## Model\n",
    "Here you make the model using different functionalities that Keras provides. Remember to use `Conv3D` and `MaxPooling3D` and not `Conv2D` and `Maxpooling2D` for a 3D convolution model. You would want to use `TimeDistributed` while building a Conv2D + RNN model. Also remember that the last layer is the softmax. Design the network in such a way that the model is able to give good accuracy on the least number of parameters so that it can fit in the memory of the webcam."
   ]
  },
  {
   "cell_type": "code",
   "execution_count": 6,
   "metadata": {},
   "outputs": [],
   "source": [
    "from keras.models import Sequential, Model\n",
    "from keras.layers import Dense, GRU, Flatten, TimeDistributed, Flatten, BatchNormalization, Activation, Dropout\n",
    "from keras.layers.convolutional import Conv3D, MaxPooling3D\n",
    "from keras.callbacks import ModelCheckpoint, ReduceLROnPlateau\n",
    "from keras import optimizers\n",
    "\n",
    "#write your model here\n",
    "Input_shape = (18, 100, 100, 3)\n",
    "model = Sequential()\n",
    "model.add(Conv3D(32, (3,3,3), padding='same',\n",
    "                 input_shape=Input_shape))\n",
    "#model.add(Conv3D(32, kernel_size=(3, 3, 3), activation='relu', kernel_initializer='he_uniform', input_shape=sample_shape))\n",
    "model.add(Activation('relu'))\n",
    "model.add(BatchNormalization())\n",
    "model.add(Conv3D(32, (3, 3,3)))\n",
    "model.add(Activation('relu'))\n",
    "model.add(BatchNormalization())\n",
    "model.add(MaxPooling3D(pool_size=(2, 2,2)))\n",
    "model.add(Dropout(0.5))\n",
    "\n",
    "model.add(Conv3D(64, (3, 3,3), padding='same'))\n",
    "model.add(Activation('relu'))\n",
    "model.add(BatchNormalization())\n",
    "model.add(Conv3D(64, (3, 3,3)))\n",
    "model.add(Activation('relu'))\n",
    "model.add(BatchNormalization())\n",
    "model.add(MaxPooling3D(pool_size=(2, 2,2)))\n",
    "model.add(Dropout(0.5))\n",
    "model.add(Flatten())\n",
    "model.add(Dense(512))\n",
    "model.add(Activation('relu'))\n",
    "model.add(Dropout(0.5))\n",
    "model.add(Dense(5))\n",
    "model.add(Activation('softmax'))"
   ]
  },
  {
   "cell_type": "markdown",
   "metadata": {},
   "source": [
    "Now that you have written the model, the next step is to `compile` the model. When you print the `summary` of the model, you'll see the total number of parameters you have to train."
   ]
  },
  {
   "cell_type": "code",
   "execution_count": 7,
   "metadata": {
    "scrolled": true
   },
   "outputs": [
    {
     "name": "stdout",
     "output_type": "stream",
     "text": [
      "Model: \"sequential\"\n",
      "_________________________________________________________________\n",
      " Layer (type)                Output Shape              Param #   \n",
      "=================================================================\n",
      " conv3d (Conv3D)             (None, 18, 100, 100, 32)  2624      \n",
      "                                                                 \n",
      " activation (Activation)     (None, 18, 100, 100, 32)  0         \n",
      "                                                                 \n",
      " batch_normalization (BatchN  (None, 18, 100, 100, 32)  128      \n",
      " ormalization)                                                   \n",
      "                                                                 \n",
      " conv3d_1 (Conv3D)           (None, 16, 98, 98, 32)    27680     \n",
      "                                                                 \n",
      " activation_1 (Activation)   (None, 16, 98, 98, 32)    0         \n",
      "                                                                 \n",
      " batch_normalization_1 (Batc  (None, 16, 98, 98, 32)   128       \n",
      " hNormalization)                                                 \n",
      "                                                                 \n",
      " max_pooling3d (MaxPooling3D  (None, 8, 49, 49, 32)    0         \n",
      " )                                                               \n",
      "                                                                 \n",
      " dropout (Dropout)           (None, 8, 49, 49, 32)     0         \n",
      "                                                                 \n",
      " conv3d_2 (Conv3D)           (None, 8, 49, 49, 64)     55360     \n",
      "                                                                 \n",
      " activation_2 (Activation)   (None, 8, 49, 49, 64)     0         \n",
      "                                                                 \n",
      " batch_normalization_2 (Batc  (None, 8, 49, 49, 64)    256       \n",
      " hNormalization)                                                 \n",
      "                                                                 \n",
      " conv3d_3 (Conv3D)           (None, 6, 47, 47, 64)     110656    \n",
      "                                                                 \n",
      " activation_3 (Activation)   (None, 6, 47, 47, 64)     0         \n",
      "                                                                 \n",
      " batch_normalization_3 (Batc  (None, 6, 47, 47, 64)    256       \n",
      " hNormalization)                                                 \n",
      "                                                                 \n",
      " max_pooling3d_1 (MaxPooling  (None, 3, 23, 23, 64)    0         \n",
      " 3D)                                                             \n",
      "                                                                 \n",
      " dropout_1 (Dropout)         (None, 3, 23, 23, 64)     0         \n",
      "                                                                 \n",
      " flatten (Flatten)           (None, 101568)            0         \n",
      "                                                                 \n",
      " dense (Dense)               (None, 512)               52003328  \n",
      "                                                                 \n",
      " activation_4 (Activation)   (None, 512)               0         \n",
      "                                                                 \n",
      " dropout_2 (Dropout)         (None, 512)               0         \n",
      "                                                                 \n",
      " dense_1 (Dense)             (None, 5)                 2565      \n",
      "                                                                 \n",
      " activation_5 (Activation)   (None, 5)                 0         \n",
      "                                                                 \n",
      "=================================================================\n",
      "Total params: 52,202,981\n",
      "Trainable params: 52,202,597\n",
      "Non-trainable params: 384\n",
      "_________________________________________________________________\n",
      "None\n"
     ]
    },
    {
     "name": "stderr",
     "output_type": "stream",
     "text": [
      "C:\\Users\\HP\\anaconda3\\lib\\site-packages\\keras\\optimizers\\optimizer_v2\\adam.py:110: UserWarning: The `lr` argument is deprecated, use `learning_rate` instead.\n",
      "  super(Adam, self).__init__(name, **kwargs)\n"
     ]
    }
   ],
   "source": [
    "from tensorflow import keras\n",
    "optimiser = keras.optimizers.Adam(lr=0.001)  #write your optimizer\n",
    "model.compile(optimizer=optimiser, loss='categorical_crossentropy', metrics=['categorical_accuracy'])\n",
    "print (model.summary())"
   ]
  },
  {
   "cell_type": "markdown",
   "metadata": {},
   "source": [
    "Let us create the `train_generator` and the `val_generator` which will be used in `.fit_generator`."
   ]
  },
  {
   "cell_type": "code",
   "execution_count": 8,
   "metadata": {},
   "outputs": [],
   "source": [
    "train_generator = generator(train_path, train_doc, batch_size)\n",
    "val_generator = generator(val_path, val_doc, batch_size)"
   ]
  },
  {
   "cell_type": "code",
   "execution_count": 9,
   "metadata": {},
   "outputs": [
    {
     "name": "stdout",
     "output_type": "stream",
     "text": [
      "WARNING:tensorflow:`period` argument is deprecated. Please use `save_freq` to specify the frequency in number of batches seen.\n",
      "WARNING:tensorflow:`epsilon` argument is deprecated and will be removed, use `min_delta` instead.\n"
     ]
    }
   ],
   "source": [
    "model_name = 'gesture_recognition' + '_' + str(curr_dt_time).replace(' ','').replace(':','_') + '/'\n",
    "    \n",
    "if not os.path.exists(model_name):\n",
    "    os.mkdir(model_name)\n",
    "        \n",
    "filepath = model_name + 'model-{epoch:05d}-{loss:.5f}-{categorical_accuracy:.5f}-{val_loss:.5f}-{val_categorical_accuracy:.5f}.h5'\n",
    "\n",
    "checkpoint = ModelCheckpoint(filepath, monitor='val_loss', verbose=1, save_best_only=False, save_weights_only=False, mode='auto', period=1)\n",
    "\n",
    "# write the REducelronplateau code here\n",
    "LR = ReduceLROnPlateau(monitor = \"val_loss\", factor = 0.1, patience = 10,\n",
    "  verbose = 0, mode = \"auto\", epsilon = 1e-04, cooldown = 0,\n",
    "  min_lr = 0)\n",
    "\n",
    "callbacks_list = [checkpoint, LR]"
   ]
  },
  {
   "cell_type": "markdown",
   "metadata": {},
   "source": [
    "The `steps_per_epoch` and `validation_steps` are used by `fit_generator` to decide the number of next() calls it need to make."
   ]
  },
  {
   "cell_type": "code",
   "execution_count": 10,
   "metadata": {},
   "outputs": [],
   "source": [
    "if (num_train_sequences%batch_size) == 0:\n",
    "    steps_per_epoch = int(num_train_sequences/batch_size)\n",
    "else:\n",
    "    steps_per_epoch = (num_train_sequences//batch_size) + 1\n",
    "\n",
    "if (num_val_sequences%batch_size) == 0:\n",
    "    validation_steps = int(num_val_sequences/batch_size)\n",
    "else:\n",
    "    validation_steps = (num_val_sequences//batch_size) + 1"
   ]
  },
  {
   "cell_type": "markdown",
   "metadata": {},
   "source": [
    "Let us now fit the model. This will start training the model and with the help of the checkpoints, you'll be able to save the model at the end of each epoch."
   ]
  },
  {
   "cell_type": "code",
   "execution_count": 11,
   "metadata": {},
   "outputs": [
    {
     "name": "stderr",
     "output_type": "stream",
     "text": [
      "C:\\Users\\HP\\AppData\\Local\\Temp/ipykernel_23176/3383535347.py:1: UserWarning: `Model.fit_generator` is deprecated and will be removed in a future version. Please use `Model.fit`, which supports generators.\n",
      "  history = model.fit_generator(train_generator, steps_per_epoch=steps_per_epoch, epochs=num_epochs, verbose=1,\n"
     ]
    },
    {
     "name": "stdout",
     "output_type": "stream",
     "text": [
      "Source path =  C:/Users/HP/Desktop/Gesture Recognition/Project_data/train ; batch size = 45\n",
      "Epoch 1/20\n",
      "15/15 [==============================] - ETA: 0s - loss: 33.2849 - categorical_accuracy: 0.2034Source path =  C:/Users/HP/Desktop/Gesture Recognition/Project_data/val ; batch size = 45\n",
      "\n",
      "Epoch 1: saving model to gesture_recognition_2022-09-1508_08_12.500140\\model-00001-33.28488-0.20339-6071.03467-0.19149.h5\n",
      "15/15 [==============================] - 104s 2s/step - loss: 33.2849 - categorical_accuracy: 0.2034 - val_loss: 6071.0347 - val_categorical_accuracy: 0.1915 - lr: 0.0010\n",
      "Epoch 2/20\n",
      "15/15 [==============================] - ETA: 0s - loss: 22.2048 - categorical_accuracy: 0.4667\n",
      "Epoch 2: saving model to gesture_recognition_2022-09-1508_08_12.500140\\model-00002-22.20480-0.46667-5341.96924-0.00000.h5\n",
      "15/15 [==============================] - 28s 2s/step - loss: 22.2048 - categorical_accuracy: 0.4667 - val_loss: 5341.9692 - val_categorical_accuracy: 0.0000e+00 - lr: 0.0010\n",
      "Epoch 3/20\n",
      "15/15 [==============================] - ETA: 0s - loss: 65.9735 - categorical_accuracy: 0.2000\n",
      "Epoch 3: saving model to gesture_recognition_2022-09-1508_08_12.500140\\model-00003-65.97353-0.20000-4780.77734-0.00000.h5\n",
      "15/15 [==============================] - 31s 2s/step - loss: 65.9735 - categorical_accuracy: 0.2000 - val_loss: 4780.7773 - val_categorical_accuracy: 0.0000e+00 - lr: 0.0010\n",
      "Epoch 4/20\n",
      "15/15 [==============================] - ETA: 0s - loss: 68.8294 - categorical_accuracy: 0.3125\n",
      "Epoch 4: saving model to gesture_recognition_2022-09-1508_08_12.500140\\model-00004-68.82942-0.31250-679.36395-0.66667.h5\n",
      "15/15 [==============================] - 38s 3s/step - loss: 68.8294 - categorical_accuracy: 0.3125 - val_loss: 679.3640 - val_categorical_accuracy: 0.6667 - lr: 0.0010\n",
      "Epoch 5/20\n",
      "15/15 [==============================] - ETA: 0s - loss: 70.4138 - categorical_accuracy: 0.2333\n",
      "Epoch 5: saving model to gesture_recognition_2022-09-1508_08_12.500140\\model-00005-70.41380-0.23333-6228.78369-0.33333.h5\n",
      "15/15 [==============================] - 74s 5s/step - loss: 70.4138 - categorical_accuracy: 0.2333 - val_loss: 6228.7837 - val_categorical_accuracy: 0.3333 - lr: 0.0010\n",
      "Epoch 6/20\n",
      "15/15 [==============================] - ETA: 0s - loss: 54.6642 - categorical_accuracy: 0.1333\n",
      "Epoch 6: saving model to gesture_recognition_2022-09-1508_08_12.500140\\model-00006-54.66419-0.13333-6785.49023-0.00000.h5\n",
      "15/15 [==============================] - 70s 5s/step - loss: 54.6642 - categorical_accuracy: 0.1333 - val_loss: 6785.4902 - val_categorical_accuracy: 0.0000e+00 - lr: 0.0010\n",
      "Epoch 7/20\n",
      "15/15 [==============================] - ETA: 0s - loss: 27.7130 - categorical_accuracy: 0.1333\n",
      "Epoch 7: saving model to gesture_recognition_2022-09-1508_08_12.500140\\model-00007-27.71305-0.13333-5901.40479-0.00000.h5\n",
      "15/15 [==============================] - 67s 4s/step - loss: 27.7130 - categorical_accuracy: 0.1333 - val_loss: 5901.4048 - val_categorical_accuracy: 0.0000e+00 - lr: 0.0010\n",
      "Epoch 8/20\n",
      "15/15 [==============================] - ETA: 0s - loss: 22.2643 - categorical_accuracy: 0.1667\n",
      "Epoch 8: saving model to gesture_recognition_2022-09-1508_08_12.500140\\model-00008-22.26432-0.16667-2335.38721-0.00000.h5\n",
      "15/15 [==============================] - 69s 5s/step - loss: 22.2643 - categorical_accuracy: 0.1667 - val_loss: 2335.3872 - val_categorical_accuracy: 0.0000e+00 - lr: 0.0010\n",
      "Epoch 9/20\n",
      "15/15 [==============================] - ETA: 0s - loss: 16.1268 - categorical_accuracy: 0.1333\n",
      "Epoch 9: saving model to gesture_recognition_2022-09-1508_08_12.500140\\model-00009-16.12681-0.13333-1473.75586-0.00000.h5\n",
      "15/15 [==============================] - 65s 4s/step - loss: 16.1268 - categorical_accuracy: 0.1333 - val_loss: 1473.7559 - val_categorical_accuracy: 0.0000e+00 - lr: 0.0010\n",
      "Epoch 10/20\n",
      "15/15 [==============================] - ETA: 0s - loss: 17.9671 - categorical_accuracy: 0.1667\n",
      "Epoch 10: saving model to gesture_recognition_2022-09-1508_08_12.500140\\model-00010-17.96706-0.16667-909.82404-0.00000.h5\n",
      "15/15 [==============================] - 66s 4s/step - loss: 17.9671 - categorical_accuracy: 0.1667 - val_loss: 909.8240 - val_categorical_accuracy: 0.0000e+00 - lr: 0.0010\n",
      "Epoch 11/20\n",
      "15/15 [==============================] - ETA: 0s - loss: 7.7599 - categorical_accuracy: 0.2000\n",
      "Epoch 11: saving model to gesture_recognition_2022-09-1508_08_12.500140\\model-00011-7.75987-0.20000-172.05640-0.00000.h5\n",
      "15/15 [==============================] - 69s 5s/step - loss: 7.7599 - categorical_accuracy: 0.2000 - val_loss: 172.0564 - val_categorical_accuracy: 0.0000e+00 - lr: 0.0010\n",
      "Epoch 12/20\n",
      "15/15 [==============================] - ETA: 0s - loss: 6.0162 - categorical_accuracy: 0.1333\n",
      "Epoch 12: saving model to gesture_recognition_2022-09-1508_08_12.500140\\model-00012-6.01622-0.13333-355.11832-0.00000.h5\n",
      "15/15 [==============================] - 69s 5s/step - loss: 6.0162 - categorical_accuracy: 0.1333 - val_loss: 355.1183 - val_categorical_accuracy: 0.0000e+00 - lr: 0.0010\n",
      "Epoch 13/20\n",
      "15/15 [==============================] - ETA: 0s - loss: 2.5561 - categorical_accuracy: 0.2000\n",
      "Epoch 13: saving model to gesture_recognition_2022-09-1508_08_12.500140\\model-00013-2.55609-0.20000-583.19556-0.00000.h5\n",
      "15/15 [==============================] - 70s 5s/step - loss: 2.5561 - categorical_accuracy: 0.2000 - val_loss: 583.1956 - val_categorical_accuracy: 0.0000e+00 - lr: 0.0010\n",
      "Epoch 14/20\n",
      "15/15 [==============================] - ETA: 0s - loss: 2.7273 - categorical_accuracy: 0.1333\n",
      "Epoch 14: saving model to gesture_recognition_2022-09-1508_08_12.500140\\model-00014-2.72734-0.13333-634.74603-0.33333.h5\n",
      "15/15 [==============================] - 70s 5s/step - loss: 2.7273 - categorical_accuracy: 0.1333 - val_loss: 634.7460 - val_categorical_accuracy: 0.3333 - lr: 0.0010\n",
      "Epoch 15/20\n",
      "15/15 [==============================] - ETA: 0s - loss: 1.7582 - categorical_accuracy: 0.1000\n",
      "Epoch 15: saving model to gesture_recognition_2022-09-1508_08_12.500140\\model-00015-1.75817-0.10000-1207.25317-0.00000.h5\n",
      "15/15 [==============================] - 67s 4s/step - loss: 1.7582 - categorical_accuracy: 0.1000 - val_loss: 1207.2532 - val_categorical_accuracy: 0.0000e+00 - lr: 0.0010\n",
      "Epoch 16/20\n",
      "15/15 [==============================] - ETA: 0s - loss: 1.6095 - categorical_accuracy: 0.1667\n",
      "Epoch 16: saving model to gesture_recognition_2022-09-1508_08_12.500140\\model-00016-1.60951-0.16667-197.81929-0.33333.h5\n",
      "15/15 [==============================] - 65s 4s/step - loss: 1.6095 - categorical_accuracy: 0.1667 - val_loss: 197.8193 - val_categorical_accuracy: 0.3333 - lr: 0.0010\n",
      "Epoch 17/20\n",
      "15/15 [==============================] - ETA: 0s - loss: 1.6078 - categorical_accuracy: 0.3000\n",
      "Epoch 17: saving model to gesture_recognition_2022-09-1508_08_12.500140\\model-00017-1.60782-0.30000-238.61159-0.00000.h5\n",
      "15/15 [==============================] - 66s 4s/step - loss: 1.6078 - categorical_accuracy: 0.3000 - val_loss: 238.6116 - val_categorical_accuracy: 0.0000e+00 - lr: 0.0010\n",
      "Epoch 18/20\n",
      "15/15 [==============================] - ETA: 0s - loss: 1.6106 - categorical_accuracy: 0.1000\n",
      "Epoch 18: saving model to gesture_recognition_2022-09-1508_08_12.500140\\model-00018-1.61059-0.10000-126.78291-0.33333.h5\n",
      "15/15 [==============================] - 66s 4s/step - loss: 1.6106 - categorical_accuracy: 0.1000 - val_loss: 126.7829 - val_categorical_accuracy: 0.3333 - lr: 0.0010\n",
      "Epoch 19/20\n",
      "15/15 [==============================] - ETA: 0s - loss: 1.6105 - categorical_accuracy: 0.1333\n",
      "Epoch 19: saving model to gesture_recognition_2022-09-1508_08_12.500140\\model-00019-1.61047-0.13333-53.57100-0.16667.h5\n",
      "15/15 [==============================] - 66s 4s/step - loss: 1.6105 - categorical_accuracy: 0.1333 - val_loss: 53.5710 - val_categorical_accuracy: 0.1667 - lr: 0.0010\n",
      "Epoch 20/20\n",
      "15/15 [==============================] - ETA: 0s - loss: 1.6080 - categorical_accuracy: 0.2000\n",
      "Epoch 20: saving model to gesture_recognition_2022-09-1508_08_12.500140\\model-00020-1.60801-0.20000-2.02631-0.33333.h5\n",
      "15/15 [==============================] - 66s 4s/step - loss: 1.6080 - categorical_accuracy: 0.2000 - val_loss: 2.0263 - val_categorical_accuracy: 0.3333 - lr: 0.0010\n"
     ]
    }
   ],
   "source": [
    "history = model.fit_generator(train_generator, steps_per_epoch=steps_per_epoch, epochs=num_epochs, verbose=1, \n",
    "                    callbacks=callbacks_list, validation_data=val_generator, \n",
    "                    validation_steps=validation_steps, class_weight=None, workers=1, initial_epoch=0)"
   ]
  },
  {
   "cell_type": "code",
   "execution_count": 12,
   "metadata": {},
   "outputs": [
    {
     "data": {
      "text/plain": [
       "<matplotlib.legend.Legend at 0x259c0c1ae20>"
      ]
     },
     "execution_count": 12,
     "metadata": {},
     "output_type": "execute_result"
    },
    {
     "data": {
      "image/png": "[encoded data removed]",
      "text/plain": [
       "<Figure size 1440x432 with 2 Axes>"
      ]
     },
     "metadata": {
      "needs_background": "light"
     },
     "output_type": "display_data"
    }
   ],
   "source": [
    "import matplotlib.pyplot as plt\n",
    "plt.figure(figsize=(20,6))\n",
    "ax1 = plt.subplot(121)\n",
    "ax1 = plt.plot(history.history['loss'])\n",
    "ax1 = plt.plot(history.history['val_loss'])\n",
    "plt.title('model loss')\n",
    "plt.ylabel('loss')\n",
    "plt.xlabel('epoch')\n",
    "plt.legend(['train', 'validation'], loc='lower left')\n",
    "ax2 = plt.subplot(122)\n",
    "ax2 = plt.plot(history.history['categorical_accuracy'])\n",
    "ax2 = plt.plot(history.history['val_categorical_accuracy'])\n",
    "plt.title('model accuracy')\n",
    "plt.ylabel('categorical_accuracy')\n",
    "plt.xlabel('epoch')\n",
    "plt.legend(['train', 'validation'], loc='lower left')"
   ]
  },
  {
   "cell_type": "code",
   "execution_count": null,
   "metadata": {},
   "outputs": [],
   "source": []
  },
  {
   "cell_type": "code",
   "execution_count": null,
   "metadata": {},
   "outputs": [],
   "source": []
  }
 ],
 "metadata": {
  "kernelspec": {
   "display_name": "Python 3 (ipykernel)",
   "language": "python",
   "name": "python3"
  },
  "language_info": {
   "codemirror_mode": {
    "name": "ipython",
    "version": 3
   },
   "file_extension": ".py",
   "mimetype": "text/x-python",
   "name": "python",
   "nbconvert_exporter": "python",
   "pygments_lexer": "ipython3",
   "version": "3.9.7"
  }
 },
 "nbformat": 4,
 "nbformat_minor": 2
}
